{
 "cells": [
  {
   "cell_type": "code",
   "execution_count": 1,
   "id": "d76944ad",
   "metadata": {},
   "outputs": [],
   "source": [
    "import numpy as np"
   ]
  },
  {
   "cell_type": "code",
   "execution_count": 2,
   "id": "2741167f",
   "metadata": {},
   "outputs": [
    {
     "name": "stdout",
     "output_type": "stream",
     "text": [
      "[1 2 3 4 5 6 7]\n",
      "<class 'numpy.ndarray'>\n"
     ]
    }
   ],
   "source": [
    "a = np.array([1,2,3,4,5,6,7])\n",
    "print(a)\n",
    "print(type(a))"
   ]
  },
  {
   "cell_type": "code",
   "execution_count": 3,
   "id": "f7ec2af1",
   "metadata": {},
   "outputs": [
    {
     "name": "stdout",
     "output_type": "stream",
     "text": [
      "[10 20 30 40]\n"
     ]
    }
   ],
   "source": [
    "a = [10,20,30,40]\n",
    "b = np.array(a)\n",
    "print(b)"
   ]
  },
  {
   "cell_type": "code",
   "execution_count": 4,
   "id": "78285fc0",
   "metadata": {},
   "outputs": [
    {
     "name": "stdout",
     "output_type": "stream",
     "text": [
      "[1 2 3 4 5 6]\n"
     ]
    }
   ],
   "source": [
    "a = (1,2,3,4,5,6)\n",
    "b = np.array(a)\n",
    "print(b)"
   ]
  },
  {
   "cell_type": "code",
   "execution_count": 5,
   "id": "e7de4162",
   "metadata": {},
   "outputs": [
    {
     "name": "stdout",
     "output_type": "stream",
     "text": [
      "[[10 20 30]\n",
      " [40 50 60]]\n"
     ]
    }
   ],
   "source": [
    "a = np.array([[10,20,30],[40,50,60]])\n",
    "print(a)"
   ]
  },
  {
   "cell_type": "code",
   "execution_count": 7,
   "id": "6d3ec433",
   "metadata": {},
   "outputs": [
    {
     "name": "stdout",
     "output_type": "stream",
     "text": [
      "[[[10 20 30 40 50]]]\n",
      "3\n"
     ]
    }
   ],
   "source": [
    "a = np.array([[[10,20,30,40,50]]])\n",
    "print(a)\n",
    "print(a.ndim)"
   ]
  },
  {
   "cell_type": "code",
   "execution_count": 8,
   "id": "12e7dfb2",
   "metadata": {},
   "outputs": [
    {
     "name": "stdout",
     "output_type": "stream",
     "text": [
      "0\n",
      "1\n",
      "2\n",
      "3\n"
     ]
    }
   ],
   "source": [
    "a = np.array(100)\n",
    "b = np.array([11,22,33,44])\n",
    "c = np.array([[10,20,30],[40,50,60]])\n",
    "d = np.array([[[100,200,300,400]]])\n",
    "print(a.ndim)\n",
    "print(b.ndim)\n",
    "print(c.ndim)\n",
    "print(d.ndim)"
   ]
  },
  {
   "cell_type": "code",
   "execution_count": 9,
   "id": "0257237b",
   "metadata": {},
   "outputs": [
    {
     "name": "stdout",
     "output_type": "stream",
     "text": [
      "[11 22 33 44 55 66 77]\n"
     ]
    }
   ],
   "source": [
    "a = np.array([11,22,33,44,55,66,77])\n",
    "print(a)\n"
   ]
  },
  {
   "cell_type": "code",
   "execution_count": 10,
   "id": "7bc2ed26",
   "metadata": {},
   "outputs": [
    {
     "name": "stdout",
     "output_type": "stream",
     "text": [
      "11\n"
     ]
    }
   ],
   "source": [
    "print(a[0])"
   ]
  },
  {
   "cell_type": "code",
   "execution_count": 11,
   "id": "18cbcb46",
   "metadata": {},
   "outputs": [
    {
     "name": "stdout",
     "output_type": "stream",
     "text": [
      "55\n"
     ]
    }
   ],
   "source": [
    "print(a[-3])"
   ]
  },
  {
   "cell_type": "code",
   "execution_count": 12,
   "id": "5ea1a774",
   "metadata": {},
   "outputs": [
    {
     "name": "stdout",
     "output_type": "stream",
     "text": [
      "[[10 20 30]\n",
      " [40 50 60]]\n"
     ]
    }
   ],
   "source": [
    "a = np.array([[10,20,30],[40,50,60]])\n",
    "print(a)"
   ]
  },
  {
   "cell_type": "code",
   "execution_count": 13,
   "id": "40d8f789",
   "metadata": {},
   "outputs": [
    {
     "name": "stdout",
     "output_type": "stream",
     "text": [
      "[[[10 20 30 40]]]\n"
     ]
    }
   ],
   "source": [
    "a = np.array([[[10,20,30,40]]])\n",
    "print(a)"
   ]
  },
  {
   "cell_type": "code",
   "execution_count": 16,
   "id": "27c54a94",
   "metadata": {},
   "outputs": [
    {
     "data": {
      "text/plain": [
       "20"
      ]
     },
     "execution_count": 16,
     "metadata": {},
     "output_type": "execute_result"
    }
   ],
   "source": [
    "a[0][0][1]"
   ]
  },
  {
   "cell_type": "code",
   "execution_count": 17,
   "id": "b2a72050",
   "metadata": {},
   "outputs": [
    {
     "data": {
      "text/plain": [
       "30"
      ]
     },
     "execution_count": 17,
     "metadata": {},
     "output_type": "execute_result"
    }
   ],
   "source": [
    "a[0][0][2]"
   ]
  },
  {
   "cell_type": "code",
   "execution_count": 18,
   "id": "e7a29683",
   "metadata": {},
   "outputs": [
    {
     "name": "stdout",
     "output_type": "stream",
     "text": [
      "[[11 22 33 44]]\n"
     ]
    }
   ],
   "source": [
    "a = np.array([[11,22,33,44]])\n",
    "print(a)\n"
   ]
  },
  {
   "cell_type": "code",
   "execution_count": 19,
   "id": "891f76ce",
   "metadata": {},
   "outputs": [
    {
     "name": "stdout",
     "output_type": "stream",
     "text": [
      "33\n"
     ]
    }
   ],
   "source": [
    "print(a[0][2])"
   ]
  },
  {
   "cell_type": "code",
   "execution_count": 20,
   "id": "c9067f81",
   "metadata": {},
   "outputs": [
    {
     "name": "stdout",
     "output_type": "stream",
     "text": [
      "[[1 2 3 4 5 6 7]]\n"
     ]
    }
   ],
   "source": [
    "a = np.array([[1,2,3,4,5,6,7]])\n",
    "print(a)"
   ]
  },
  {
   "cell_type": "code",
   "execution_count": 21,
   "id": "9054ba37",
   "metadata": {},
   "outputs": [
    {
     "name": "stdout",
     "output_type": "stream",
     "text": [
      "[[[10 20 30 40 50]]]\n"
     ]
    }
   ],
   "source": [
    "a = np.array([[[10,20,30,40,50]]])\n",
    "print(a)"
   ]
  },
  {
   "cell_type": "code",
   "execution_count": 22,
   "id": "81d7b9e3",
   "metadata": {},
   "outputs": [
    {
     "name": "stdout",
     "output_type": "stream",
     "text": [
      "40\n"
     ]
    }
   ],
   "source": [
    "print(a[0][0][3])"
   ]
  },
  {
   "cell_type": "code",
   "execution_count": 23,
   "id": "efa1cfba",
   "metadata": {},
   "outputs": [
    {
     "name": "stdout",
     "output_type": "stream",
     "text": [
      "30\n"
     ]
    }
   ],
   "source": [
    "print(a[0,0,2])"
   ]
  },
  {
   "cell_type": "code",
   "execution_count": 24,
   "id": "c17b24fd",
   "metadata": {},
   "outputs": [
    {
     "name": "stdout",
     "output_type": "stream",
     "text": [
      "[[11 22 33]\n",
      " [44 55 66]]\n"
     ]
    }
   ],
   "source": [
    "a = np.array([[11,22,33],[44,55,66]])\n",
    "print(a)"
   ]
  },
  {
   "cell_type": "code",
   "execution_count": 25,
   "id": "0978917a",
   "metadata": {},
   "outputs": [
    {
     "data": {
      "text/plain": [
       "11"
      ]
     },
     "execution_count": 25,
     "metadata": {},
     "output_type": "execute_result"
    }
   ],
   "source": [
    "a[0][0]"
   ]
  },
  {
   "cell_type": "code",
   "execution_count": 27,
   "id": "f15b90a9",
   "metadata": {},
   "outputs": [
    {
     "data": {
      "text/plain": [
       "22"
      ]
     },
     "execution_count": 27,
     "metadata": {},
     "output_type": "execute_result"
    }
   ],
   "source": [
    "a[0][1]"
   ]
  },
  {
   "cell_type": "code",
   "execution_count": 29,
   "id": "e1acac7f",
   "metadata": {},
   "outputs": [
    {
     "data": {
      "text/plain": [
       "11"
      ]
     },
     "execution_count": 29,
     "metadata": {},
     "output_type": "execute_result"
    }
   ],
   "source": [
    "a[0,0]"
   ]
  },
  {
   "cell_type": "code",
   "execution_count": 30,
   "id": "c0959fbe",
   "metadata": {},
   "outputs": [
    {
     "name": "stdout",
     "output_type": "stream",
     "text": [
      "[[[[[1 2 3 4 5]]]]]\n"
     ]
    }
   ],
   "source": [
    "a = np.array([[1,2,3,4,5]], ndmin = 5)\n",
    "print(a)"
   ]
  },
  {
   "cell_type": "code",
   "execution_count": 31,
   "id": "bea3facb",
   "metadata": {},
   "outputs": [
    {
     "name": "stdout",
     "output_type": "stream",
     "text": [
      "[1 2 3 4 5 6]\n"
     ]
    }
   ],
   "source": [
    "a = np.array([1,2,3,4,5,6])\n",
    "print(a)"
   ]
  },
  {
   "cell_type": "code",
   "execution_count": 34,
   "id": "f1f21ce0",
   "metadata": {},
   "outputs": [
    {
     "name": "stdout",
     "output_type": "stream",
     "text": [
      "[1 2]\n"
     ]
    }
   ],
   "source": [
    "print(a[0:2])"
   ]
  },
  {
   "cell_type": "code",
   "execution_count": 35,
   "id": "7e4e4e8c",
   "metadata": {},
   "outputs": [
    {
     "name": "stdout",
     "output_type": "stream",
     "text": [
      "[4 5]\n"
     ]
    }
   ],
   "source": [
    "print(a[-3:-1])"
   ]
  },
  {
   "cell_type": "code",
   "execution_count": 36,
   "id": "f249f90a",
   "metadata": {},
   "outputs": [
    {
     "name": "stdout",
     "output_type": "stream",
     "text": [
      "[1 2 3]\n"
     ]
    }
   ],
   "source": [
    "print(a[:3])"
   ]
  },
  {
   "cell_type": "code",
   "execution_count": 37,
   "id": "0d07ca78",
   "metadata": {},
   "outputs": [
    {
     "name": "stdout",
     "output_type": "stream",
     "text": [
      "[[10 20 30]\n",
      " [40 50 60]]\n"
     ]
    }
   ],
   "source": [
    "a = np.array([[10,20,30],[40,50,60]])\n",
    "print(a)"
   ]
  },
  {
   "cell_type": "code",
   "execution_count": 41,
   "id": "72ef108a",
   "metadata": {},
   "outputs": [
    {
     "name": "stdout",
     "output_type": "stream",
     "text": [
      "[[10 20]]\n",
      "[[40 50]]\n"
     ]
    }
   ],
   "source": [
    "print(a[0:1,0:2])\n",
    "print(a[1:2,0:2])"
   ]
  },
  {
   "cell_type": "code",
   "execution_count": 42,
   "id": "f972700a",
   "metadata": {},
   "outputs": [
    {
     "name": "stdout",
     "output_type": "stream",
     "text": [
      "[[10 20 30]]\n"
     ]
    }
   ],
   "source": [
    "print(a[-3:-1])"
   ]
  },
  {
   "cell_type": "code",
   "execution_count": 43,
   "id": "445ecef5",
   "metadata": {},
   "outputs": [
    {
     "name": "stdout",
     "output_type": "stream",
     "text": [
      "60\n"
     ]
    }
   ],
   "source": [
    "print(a[1,2])"
   ]
  },
  {
   "cell_type": "code",
   "execution_count": 44,
   "id": "d841ff84",
   "metadata": {},
   "outputs": [
    {
     "name": "stdout",
     "output_type": "stream",
     "text": [
      "[50 60]\n"
     ]
    }
   ],
   "source": [
    "print(a[1,1:3])"
   ]
  },
  {
   "cell_type": "code",
   "execution_count": 45,
   "id": "df3716ab",
   "metadata": {},
   "outputs": [
    {
     "name": "stdout",
     "output_type": "stream",
     "text": [
      "[10 20]\n"
     ]
    }
   ],
   "source": [
    "print(a[0,0:2])"
   ]
  },
  {
   "cell_type": "code",
   "execution_count": 46,
   "id": "a632127d",
   "metadata": {},
   "outputs": [
    {
     "name": "stdout",
     "output_type": "stream",
     "text": [
      "[[[ 1  2  3  4  5]\n",
      "  [ 6  7  8  9 10]]]\n"
     ]
    }
   ],
   "source": [
    "a = np.array([[[1,2,3,4,5],[6,7,8,9,10]]])\n",
    "print(a)"
   ]
  },
  {
   "cell_type": "code",
   "execution_count": 47,
   "id": "6141b7f3",
   "metadata": {},
   "outputs": [
    {
     "name": "stdout",
     "output_type": "stream",
     "text": [
      "[[[ 1  2  3  4  5]\n",
      "  [ 6  7  8  9 10]]]\n"
     ]
    }
   ],
   "source": [
    "print(a[0:1,0:2])"
   ]
  },
  {
   "cell_type": "code",
   "execution_count": 56,
   "id": "c37b4452",
   "metadata": {},
   "outputs": [
    {
     "name": "stdout",
     "output_type": "stream",
     "text": [
      "[[[7]]]\n",
      "[[[2]\n",
      "  [7]]]\n"
     ]
    }
   ],
   "source": [
    "print(a[0:2,1:3,1:2])\n",
    "print(a[0:2,0:3,1:2])"
   ]
  },
  {
   "cell_type": "code",
   "execution_count": 58,
   "id": "dfa1b38a",
   "metadata": {},
   "outputs": [
    {
     "name": "stdout",
     "output_type": "stream",
     "text": [
      "[10 20 30 40 50 60]\n"
     ]
    }
   ],
   "source": [
    "a = np.array([10,20,30,40,50,60])\n",
    "print(a)"
   ]
  },
  {
   "cell_type": "code",
   "execution_count": 59,
   "id": "0e595da7",
   "metadata": {},
   "outputs": [
    {
     "name": "stdout",
     "output_type": "stream",
     "text": [
      "[[1 2 3]\n",
      " [4 5 6]]\n"
     ]
    }
   ],
   "source": [
    "a = np.array([[1,2,3],[4,5,6]])\n",
    "print(a)"
   ]
  },
  {
   "cell_type": "code",
   "execution_count": 60,
   "id": "d06e8f7d",
   "metadata": {},
   "outputs": [
    {
     "name": "stdout",
     "output_type": "stream",
     "text": [
      "[[1 2]]\n"
     ]
    }
   ],
   "source": [
    "print(a[0:1,0:2])"
   ]
  },
  {
   "cell_type": "code",
   "execution_count": 61,
   "id": "da80dfc7",
   "metadata": {},
   "outputs": [
    {
     "name": "stdout",
     "output_type": "stream",
     "text": [
      "[10 20 30]\n",
      "int32\n"
     ]
    }
   ],
   "source": [
    "a = np.array([10,20,30])\n",
    "print(a)\n",
    "print(a.dtype)"
   ]
  },
  {
   "cell_type": "code",
   "execution_count": 62,
   "id": "07380283",
   "metadata": {},
   "outputs": [
    {
     "name": "stdout",
     "output_type": "stream",
     "text": [
      "[[1.1 2.2]\n",
      " [3.3 4.4]]\n",
      "float64\n"
     ]
    }
   ],
   "source": [
    "a = np.array([[1.1,2.2],[3.3,4.4]])\n",
    "print(a)\n",
    "print(a.dtype)"
   ]
  },
  {
   "cell_type": "code",
   "execution_count": 63,
   "id": "74eb7260",
   "metadata": {},
   "outputs": [
    {
     "name": "stdout",
     "output_type": "stream",
     "text": [
      "[[[ True False]]]\n",
      "bool\n"
     ]
    }
   ],
   "source": [
    "a = np.array([[[True,False]]])\n",
    "print(a)\n",
    "print(a.dtype)"
   ]
  },
  {
   "cell_type": "code",
   "execution_count": 67,
   "id": "4ebffc00",
   "metadata": {},
   "outputs": [
    {
     "name": "stdout",
     "output_type": "stream",
     "text": [
      "[[1.+2.j 3.+4.j]\n",
      " [5.+4.j 6.+7.j]]\n",
      "complex128\n"
     ]
    }
   ],
   "source": [
    "a = np.array([[1+2J,3+4J],[5+4J,6+7J]])\n",
    "print(a)\n",
    "print(a.dtype)"
   ]
  },
  {
   "cell_type": "code",
   "execution_count": 68,
   "id": "b4857bcd",
   "metadata": {},
   "outputs": [
    {
     "name": "stdout",
     "output_type": "stream",
     "text": [
      "[['aa' 'bb' 'dd' 'ee' 'ff']]\n",
      "<U2\n"
     ]
    }
   ],
   "source": [
    "a = np.array([['aa','bb','dd','ee','ff']])\n",
    "print(a)\n",
    "print(a.dtype)"
   ]
  },
  {
   "cell_type": "code",
   "execution_count": 69,
   "id": "da2f9a2c",
   "metadata": {},
   "outputs": [
    {
     "name": "stdout",
     "output_type": "stream",
     "text": [
      "[10. 20. 30. 40.]\n"
     ]
    }
   ],
   "source": [
    "a = np.array([10,20,30,40], dtype = 'float')\n",
    "print(a)"
   ]
  },
  {
   "cell_type": "code",
   "execution_count": 70,
   "id": "5e7d2777",
   "metadata": {},
   "outputs": [
    {
     "name": "stdout",
     "output_type": "stream",
     "text": [
      "[[1 2 3 4]]\n"
     ]
    }
   ],
   "source": [
    "a = np.array([[1.1,2.2,3.3,4.4]], dtype='int')\n",
    "print(a)"
   ]
  },
  {
   "cell_type": "code",
   "execution_count": 73,
   "id": "5e6bd80b",
   "metadata": {},
   "outputs": [
    {
     "name": "stdout",
     "output_type": "stream",
     "text": [
      "[[[1 2 3 4 5]]]\n",
      "int64\n"
     ]
    }
   ],
   "source": [
    "a = np.array([[['1','2','3','4','5']]], dtype = 'int64')\n",
    "print(a)\n",
    "print(a.dtype)"
   ]
  },
  {
   "cell_type": "code",
   "execution_count": 75,
   "id": "513c3fec",
   "metadata": {},
   "outputs": [
    {
     "name": "stdout",
     "output_type": "stream",
     "text": [
      "[ True  True  True  True  True False]\n"
     ]
    }
   ],
   "source": [
    "a = np.array([1,2,3,4,5,0])\n",
    "b = a.astype('bool')\n",
    "print(b)"
   ]
  },
  {
   "cell_type": "code",
   "execution_count": 76,
   "id": "339bd9ec",
   "metadata": {},
   "outputs": [
    {
     "name": "stdout",
     "output_type": "stream",
     "text": [
      "[[1 2 3 4]]\n"
     ]
    }
   ],
   "source": [
    "a = np.array([['1','2','3','4']])\n",
    "b = a.astype('int')\n",
    "print(b)"
   ]
  },
  {
   "cell_type": "code",
   "execution_count": 77,
   "id": "baa4d548",
   "metadata": {},
   "outputs": [
    {
     "name": "stdout",
     "output_type": "stream",
     "text": [
      "[[10 20 30 40 50 60]]\n",
      "[[10 20 30 40 50 60]]\n",
      "[[10 20 30 40 50 60]]\n",
      "[[100  20  30  40  50  60]]\n"
     ]
    }
   ],
   "source": [
    "a = np.array([[10,20,30,40,50,60]])\n",
    "print(a)\n",
    "b = a.copy()\n",
    "print(b)\n",
    "b[0,0]=100\n",
    "print(a)\n",
    "print(b)"
   ]
  },
  {
   "cell_type": "code",
   "execution_count": 78,
   "id": "0be6ad1e",
   "metadata": {},
   "outputs": [
    {
     "name": "stdout",
     "output_type": "stream",
     "text": [
      "[10  2  3  4  5  6  7  8]\n",
      "[10  2  3  4  5  6  7  8]\n"
     ]
    }
   ],
   "source": [
    "a = np.array([1,2,3,4,5,6,7,8])\n",
    "b = a.view()\n",
    "b[0]=10\n",
    "print(a)\n",
    "print(b)"
   ]
  },
  {
   "cell_type": "code",
   "execution_count": 79,
   "id": "c5e22e48",
   "metadata": {},
   "outputs": [
    {
     "name": "stdout",
     "output_type": "stream",
     "text": [
      "None\n",
      "[[11 22 33 44]]\n"
     ]
    }
   ],
   "source": [
    "a = np.array([[11,22,33,44]])\n",
    "b = a.copy()\n",
    "c = a.view()\n",
    "print(b.base)\n",
    "print(c.base)"
   ]
  },
  {
   "cell_type": "code",
   "execution_count": 80,
   "id": "1dbd18d1",
   "metadata": {},
   "outputs": [
    {
     "name": "stdout",
     "output_type": "stream",
     "text": [
      "100\n",
      "200\n",
      "300\n",
      "400\n",
      "500\n"
     ]
    }
   ],
   "source": [
    "a = np.array([100,200,300,400,500])\n",
    "for x in a:\n",
    "    print(x)"
   ]
  },
  {
   "cell_type": "code",
   "execution_count": 81,
   "id": "e17ee485",
   "metadata": {},
   "outputs": [
    {
     "name": "stdout",
     "output_type": "stream",
     "text": [
      "[1 2 3 4 5 6 7 8]\n"
     ]
    }
   ],
   "source": [
    "a = np.array([[1,2,3,4,5,6,7,8]])\n",
    "for i in a:\n",
    "    print(i)\n"
   ]
  },
  {
   "cell_type": "code",
   "execution_count": 82,
   "id": "fdc3dc38",
   "metadata": {},
   "outputs": [
    {
     "name": "stdout",
     "output_type": "stream",
     "text": [
      "[[1 2 3 4 5 6 7 8]]\n",
      "[1 2 3 4 5 6 7 8]\n",
      "1\n",
      "2\n",
      "3\n",
      "4\n",
      "5\n",
      "6\n",
      "7\n",
      "8\n"
     ]
    }
   ],
   "source": [
    "a = np.array([[[1,2,3,4,5,6,7,8]]])\n",
    "for x in a:\n",
    "    print(x)\n",
    "    for y in x:\n",
    "        print(y)\n",
    "        for z in y:\n",
    "            print(z)"
   ]
  },
  {
   "cell_type": "code",
   "execution_count": 83,
   "id": "cd795184",
   "metadata": {},
   "outputs": [
    {
     "name": "stdout",
     "output_type": "stream",
     "text": [
      "[[[1]\n",
      "  [2]]\n",
      "\n",
      " [[3]\n",
      "  [4]]\n",
      "\n",
      " [[5]\n",
      "  [6]]\n",
      "\n",
      " [[7]\n",
      "  [8]]]\n"
     ]
    }
   ],
   "source": [
    "a = np.array([[1,2,3,4,5,6,7,8]])\n",
    "b = a.reshape(4,2,1)\n",
    "print(b)"
   ]
  },
  {
   "cell_type": "code",
   "execution_count": 84,
   "id": "be1e579c",
   "metadata": {},
   "outputs": [
    {
     "name": "stdout",
     "output_type": "stream",
     "text": [
      "[[1]\n",
      " [2]\n",
      " [3]\n",
      " [4]\n",
      " [5]]\n"
     ]
    }
   ],
   "source": [
    "a = np.array([[[1,2,3,4,5]]])\n",
    "b = a.reshape(5,-1)\n",
    "print(b)"
   ]
  },
  {
   "cell_type": "code",
   "execution_count": 85,
   "id": "cfe61623",
   "metadata": {},
   "outputs": [
    {
     "name": "stdout",
     "output_type": "stream",
     "text": [
      "[1 2 3 4 5 6]\n"
     ]
    }
   ],
   "source": [
    "a = np.array([[[[1,2,3,4,5,6]]]])\n",
    "b = a.reshape(-1)\n",
    "print(b)"
   ]
  },
  {
   "cell_type": "code",
   "execution_count": 88,
   "id": "20b811b5",
   "metadata": {},
   "outputs": [
    {
     "name": "stdout",
     "output_type": "stream",
     "text": [
      "10\n",
      "20\n",
      "30\n",
      "40\n",
      "50\n",
      "60\n",
      "70\n",
      "80\n"
     ]
    }
   ],
   "source": [
    "a = np.array([[[10,20],[30,40]],[[50,60],[70,80]]])\n",
    "for x in np.nditer(a):\n",
    "    print(x)\n",
    "    "
   ]
  },
  {
   "cell_type": "code",
   "execution_count": 89,
   "id": "87332858",
   "metadata": {},
   "outputs": [
    {
     "name": "stdout",
     "output_type": "stream",
     "text": [
      "1\n",
      "2\n",
      "3\n",
      "4\n",
      "5\n",
      "6\n"
     ]
    }
   ],
   "source": [
    "a = np.array([[1,2,3],[4,5,6]])\n",
    "b = np.nditer(a)\n",
    "for x in b:\n",
    "    print(x)"
   ]
  },
  {
   "cell_type": "code",
   "execution_count": 90,
   "id": "723d73f3",
   "metadata": {},
   "outputs": [
    {
     "name": "stdout",
     "output_type": "stream",
     "text": [
      "b'10'\n",
      "b'20'\n",
      "b'30'\n",
      "b'40'\n",
      "b'50'\n",
      "b'60'\n"
     ]
    }
   ],
   "source": [
    "a = np.array([[10,20,30,40,50,60]])\n",
    "for i in np.nditer(a, flags = ['buffered'], op_dtypes = ['S']):\n",
    "    print(i)"
   ]
  },
  {
   "cell_type": "code",
   "execution_count": 91,
   "id": "308752fd",
   "metadata": {},
   "outputs": [
    {
     "name": "stdout",
     "output_type": "stream",
     "text": [
      "1\n",
      "2\n",
      "3\n",
      "4\n",
      "5\n"
     ]
    }
   ],
   "source": [
    "a = np.array([[['1','2','3','4','5']]])\n",
    "for i in np.nditer(a, flags=['buffered'], op_dtypes = ['U']):\n",
    "    print(i)"
   ]
  },
  {
   "cell_type": "code",
   "execution_count": 92,
   "id": "192183bb",
   "metadata": {},
   "outputs": [
    {
     "name": "stdout",
     "output_type": "stream",
     "text": [
      "10\n",
      "20\n"
     ]
    }
   ],
   "source": [
    "a = np.array([[10,20,30,40,50,60]])\n",
    "for i in np.nditer(a[0,0:2]):\n",
    "    print(i)"
   ]
  },
  {
   "cell_type": "code",
   "execution_count": 93,
   "id": "cfccbb16",
   "metadata": {},
   "outputs": [
    {
     "name": "stdout",
     "output_type": "stream",
     "text": [
      "((0, 0, 0), 10)\n",
      "((0, 0, 1), 20)\n",
      "((0, 1, 0), 30)\n",
      "((0, 1, 1), 40)\n",
      "((1, 0, 0), 50)\n",
      "((1, 0, 1), 60)\n",
      "((1, 1, 0), 70)\n",
      "((1, 1, 1), 80)\n"
     ]
    }
   ],
   "source": [
    "a = np.array([[[10,20],[30,40]],[[50,60],[70,80]]])\n",
    "for i in np.ndenumerate(a):\n",
    "    print(i)"
   ]
  },
  {
   "cell_type": "code",
   "execution_count": 94,
   "id": "79eec2fb",
   "metadata": {},
   "outputs": [
    {
     "name": "stdout",
     "output_type": "stream",
     "text": [
      "((0, 0), 1)\n",
      "((0, 1), 2)\n",
      "((0, 2), 34)\n",
      "((0, 3), 5)\n"
     ]
    }
   ],
   "source": [
    "a = np.array([[1,2,34,5]])\n",
    "for i in np.ndenumerate(a):\n",
    "    print(i)"
   ]
  },
  {
   "cell_type": "code",
   "execution_count": 95,
   "id": "2bff9663",
   "metadata": {},
   "outputs": [
    {
     "name": "stdout",
     "output_type": "stream",
     "text": [
      "[1 2 3 4 5 6]\n"
     ]
    }
   ],
   "source": [
    "a = np.array([1,2,3])\n",
    "b = np.array([4,5,6])\n",
    "c = np.concatenate((a,b))\n",
    "print(c)"
   ]
  },
  {
   "cell_type": "code",
   "execution_count": 98,
   "id": "b1b9151a",
   "metadata": {},
   "outputs": [
    {
     "name": "stdout",
     "output_type": "stream",
     "text": [
      "[[10 20 30 40 50 60 70 80]]\n"
     ]
    }
   ],
   "source": [
    "a = np.array([[10,20,30,40]])\n",
    "b = np.array([[50,60,70,80]])\n",
    "c = np.concatenate((a,b),axis=1)\n",
    "print(c)"
   ]
  },
  {
   "cell_type": "code",
   "execution_count": 99,
   "id": "59a2f707",
   "metadata": {},
   "outputs": [
    {
     "name": "stdout",
     "output_type": "stream",
     "text": [
      "[[[1 2 3]]\n",
      "\n",
      " [[4 5 6]]]\n"
     ]
    }
   ],
   "source": [
    "a = np.array([[1,2,3]])\n",
    "b = np.array([[4,5,6]])\n",
    "c = np.stack((a,b))\n",
    "print(c)"
   ]
  },
  {
   "cell_type": "code",
   "execution_count": 100,
   "id": "cef438df",
   "metadata": {},
   "outputs": [
    {
     "name": "stdout",
     "output_type": "stream",
     "text": [
      "[[[[10 20 30]]\n",
      "\n",
      "  [[40 50 60]]]]\n"
     ]
    }
   ],
   "source": [
    "a = np.array([[[10,20,30]]])\n",
    "b = np.array([[[40,50,60]]])\n",
    "c = np.stack((a,b), axis=1)\n",
    "print(c)"
   ]
  },
  {
   "cell_type": "code",
   "execution_count": 101,
   "id": "92c6524e",
   "metadata": {},
   "outputs": [
    {
     "name": "stdout",
     "output_type": "stream",
     "text": [
      "[[11 22 33 44 55 66]]\n"
     ]
    }
   ],
   "source": [
    "a = np.array([[11,22,33]])\n",
    "b = np.array([[44,55,66]])\n",
    "c = np.hstack((a,b))\n",
    "print(c)"
   ]
  },
  {
   "cell_type": "code",
   "execution_count": 104,
   "id": "1028048f",
   "metadata": {},
   "outputs": [
    {
     "name": "stdout",
     "output_type": "stream",
     "text": [
      "[[[10 20 30]\n",
      "  [40 50 60]]]\n"
     ]
    }
   ],
   "source": [
    "a = np.array([[[10,20,30]]])\n",
    "b = np.array([[[40,50,60]]])\n",
    "c = np.hstack((a,b))\n",
    "print(c)"
   ]
  },
  {
   "cell_type": "code",
   "execution_count": 111,
   "id": "c589b0d0",
   "metadata": {},
   "outputs": [
    {
     "name": "stdout",
     "output_type": "stream",
     "text": [
      "[[1 2 3]\n",
      " [4 5 6]]\n"
     ]
    }
   ],
   "source": [
    "a = np.array([1,2,3])\n",
    "b = np.array([4,5,6])\n",
    "c = np.vstack((a,b))\n",
    "print(c)"
   ]
  },
  {
   "cell_type": "code",
   "execution_count": 109,
   "id": "3ab6f474",
   "metadata": {},
   "outputs": [
    {
     "name": "stdout",
     "output_type": "stream",
     "text": [
      "[[1 2 3]\n",
      " [4 5 6]]\n"
     ]
    }
   ],
   "source": [
    "a = np.array([1,2,3])\n",
    "b = np.array([4,5,6])\n",
    "c = np.stack((a,b))\n",
    "print(c)"
   ]
  },
  {
   "cell_type": "code",
   "execution_count": 112,
   "id": "54c94b09",
   "metadata": {},
   "outputs": [
    {
     "name": "stdout",
     "output_type": "stream",
     "text": [
      "[[10 20 30 40 50 60]]\n"
     ]
    }
   ],
   "source": [
    "a = np.array([[10,20,30]])\n",
    "b = np.array([[40,50,60]])\n",
    "c = np.hstack((a,b))\n",
    "print(c)"
   ]
  },
  {
   "cell_type": "code",
   "execution_count": 113,
   "id": "9fd56320",
   "metadata": {},
   "outputs": [
    {
     "name": "stdout",
     "output_type": "stream",
     "text": [
      "[[[1 2 3 4]\n",
      "  [5 6 7 8]]]\n"
     ]
    }
   ],
   "source": [
    "a = np.array([[[1,2,3,4]]])\n",
    "b = np.array([[[5,6,7,8]]])\n",
    "c = np.hstack((a,b))\n",
    "print(c)"
   ]
  },
  {
   "cell_type": "code",
   "execution_count": 114,
   "id": "dee75f25",
   "metadata": {},
   "outputs": [
    {
     "name": "stdout",
     "output_type": "stream",
     "text": [
      "[[[100 300]\n",
      "  [200 400]]]\n"
     ]
    }
   ],
   "source": [
    "a = np.array([[100,200]])\n",
    "b = np.array([[300,400]])\n",
    "c = np.dstack((a,b))\n",
    "print(c)"
   ]
  },
  {
   "cell_type": "code",
   "execution_count": 115,
   "id": "155bae45",
   "metadata": {},
   "outputs": [
    {
     "name": "stdout",
     "output_type": "stream",
     "text": [
      "[[[1 3]\n",
      "  [2 4]]]\n"
     ]
    }
   ],
   "source": [
    "a = np.array([1,2])\n",
    "b = np.array([3,4])\n",
    "c = np.dstack((a,b))\n",
    "print(c)"
   ]
  },
  {
   "cell_type": "code",
   "execution_count": 116,
   "id": "d76330d8",
   "metadata": {},
   "outputs": [
    {
     "name": "stdout",
     "output_type": "stream",
     "text": [
      "[array([1, 2, 3, 4]), array([5, 6, 7, 8])]\n"
     ]
    }
   ],
   "source": [
    "a = np.array([1,2,3,4,5,6,7,8])\n",
    "b = np.split(a,2)\n",
    "print(b)"
   ]
  },
  {
   "cell_type": "code",
   "execution_count": 118,
   "id": "5958d034",
   "metadata": {},
   "outputs": [
    {
     "name": "stdout",
     "output_type": "stream",
     "text": [
      "[array([[1, 2],\n",
      "       [5, 6]]), array([[3, 4],\n",
      "       [7, 8]])]\n"
     ]
    }
   ],
   "source": [
    "a = np.array([[1,2,3,4],[5,6,7,8]])\n",
    "b = np.split(a,2,axis=1)\n",
    "print(b)"
   ]
  },
  {
   "cell_type": "code",
   "execution_count": 122,
   "id": "64fc4982",
   "metadata": {},
   "outputs": [
    {
     "name": "stdout",
     "output_type": "stream",
     "text": [
      "[array([[[1, 2, 3, 4]]]), array([[[5, 6, 7, 8]]])]\n"
     ]
    }
   ],
   "source": [
    "a = np.array([[[1,2,3,4],[5,6,7,8]]])\n",
    "b = np.split(a,2,axis=1)\n",
    "print(b)"
   ]
  },
  {
   "cell_type": "code",
   "execution_count": 124,
   "id": "a67d52ed",
   "metadata": {},
   "outputs": [
    {
     "name": "stdout",
     "output_type": "stream",
     "text": [
      "[array([[11, 22, 33, 44]]), array([[55, 66, 77, 88]])]\n",
      "[[11 22 33 44]]\n",
      "[[55 66 77 88]]\n"
     ]
    }
   ],
   "source": [
    "a = np.array([[11,22,33,44],[55,66,77,88]])\n",
    "b = np.array_split(a,2)\n",
    "print(b)\n",
    "for i in b:\n",
    "    print(i)"
   ]
  },
  {
   "cell_type": "code",
   "execution_count": 130,
   "id": "67703ed3",
   "metadata": {},
   "outputs": [
    {
     "name": "stdout",
     "output_type": "stream",
     "text": [
      "(2, 2)\n",
      "[array([[100],\n",
      "       [300]]), array([[200],\n",
      "       [400]])]\n",
      "[[100]\n",
      " [300]]\n",
      "[[200]\n",
      " [400]]\n"
     ]
    }
   ],
   "source": [
    "a = np.array([[100,200],[300,400]])\n",
    "print(a.shape)\n",
    "b = np.array_split(a,2,axis=1)\n",
    "print(b)\n",
    "\n",
    "for i in b:\n",
    "    print(i)"
   ]
  },
  {
   "cell_type": "code",
   "execution_count": 131,
   "id": "b7849330",
   "metadata": {},
   "outputs": [
    {
     "name": "stdout",
     "output_type": "stream",
     "text": [
      "[array([[1, 2, 3]]), array([[4, 5, 6]])]\n"
     ]
    }
   ],
   "source": [
    "a = np.array([[1,2,3,4,5,6]])\n",
    "b = np.hsplit(a,2)\n",
    "print(b)"
   ]
  },
  {
   "cell_type": "code",
   "execution_count": 134,
   "id": "a1fd826d",
   "metadata": {},
   "outputs": [
    {
     "name": "stdout",
     "output_type": "stream",
     "text": [
      "[array([[[10, 20, 30, 40, 50, 60]]])]\n"
     ]
    }
   ],
   "source": [
    "a = np.array([[[10,20,30,40,50,60]]])\n",
    "b = np.vsplit(a,1)\n",
    "print(b)\n",
    "for i in "
   ]
  },
  {
   "cell_type": "code",
   "execution_count": 137,
   "id": "2c7f4806",
   "metadata": {},
   "outputs": [
    {
     "name": "stdout",
     "output_type": "stream",
     "text": [
      "[array([[1, 2, 3, 4]]), array([[5, 6, 7, 8]])]\n"
     ]
    }
   ],
   "source": [
    "a = np.array([[1,2,3,4],[5,6,7,8]])\n",
    "b = np.vsplit(a,2)\n",
    "print(b)"
   ]
  },
  {
   "cell_type": "code",
   "execution_count": 140,
   "id": "54ebbc65",
   "metadata": {},
   "outputs": [
    {
     "name": "stdout",
     "output_type": "stream",
     "text": [
      "[array([[[11, 22, 33, 44]]]), array([[[55, 66, 77, 88]]])]\n"
     ]
    }
   ],
   "source": [
    "a = np.array([[[11,22,33,44],[55,66,77,88]]])\n",
    "b = np.hsplit(a,2)\n",
    "print(b)"
   ]
  },
  {
   "cell_type": "code",
   "execution_count": 144,
   "id": "cdc7ada6",
   "metadata": {},
   "outputs": [
    {
     "name": "stdout",
     "output_type": "stream",
     "text": [
      "[array([[[1, 2],\n",
      "        [5, 6]]]), array([[[3, 4],\n",
      "        [7, 8]]])]\n"
     ]
    }
   ],
   "source": [
    "a = np.array([[[1,2,3,4],[5,6,7,8]]])\n",
    "b = np.dsplit(a,2)\n",
    "print(b)"
   ]
  },
  {
   "cell_type": "code",
   "execution_count": 145,
   "id": "7fbf94d5",
   "metadata": {},
   "outputs": [
    {
     "name": "stdout",
     "output_type": "stream",
     "text": [
      "(array([0], dtype=int64), array([1], dtype=int64))\n"
     ]
    }
   ],
   "source": [
    "a = np.array([[1,2,3,4,5]])\n",
    "b = np.where(a==2)\n",
    "print(b)"
   ]
  },
  {
   "cell_type": "code",
   "execution_count": 148,
   "id": "0189d992",
   "metadata": {},
   "outputs": [
    {
     "name": "stdout",
     "output_type": "stream",
     "text": [
      "(array([0, 0, 0, 0, 1, 1, 1, 1], dtype=int64), array([0, 0, 1, 1, 0, 0, 1, 1], dtype=int64), array([0, 1, 0, 1, 0, 1, 0, 1], dtype=int64))\n"
     ]
    }
   ],
   "source": [
    "a = np.array([[[10,20],[30,40]],[[50,60],[70,80]]])\n",
    "b = np.where(a%2==0)\n",
    "print(b)"
   ]
  },
  {
   "cell_type": "code",
   "execution_count": 149,
   "id": "48dd902c",
   "metadata": {},
   "outputs": [
    {
     "name": "stdout",
     "output_type": "stream",
     "text": [
      "(array([0], dtype=int64), array([0], dtype=int64), array([3], dtype=int64))\n"
     ]
    }
   ],
   "source": [
    "a = np.array([[[1,2,3,4,5,6,7,8,9]]])\n",
    "b = np.where(a==4)\n",
    "print(b)"
   ]
  },
  {
   "cell_type": "code",
   "execution_count": 153,
   "id": "b22673ee",
   "metadata": {},
   "outputs": [
    {
     "name": "stdout",
     "output_type": "stream",
     "text": [
      "[[10 20 30]\n",
      " [40 50 60]]\n",
      "[[11 21 31]\n",
      " [41 51 61]]\n",
      "[[ 9 19 29]\n",
      " [39 49 59]]\n",
      "[[ 50 100 150]\n",
      " [200 250 300]]\n"
     ]
    }
   ],
   "source": [
    "a = np.array([[10,20,30],[40,50,60]])\n",
    "print(a)\n",
    "print(a+1)\n",
    "print(a-1)\n",
    "print(a*5)"
   ]
  },
  {
   "cell_type": "code",
   "execution_count": 154,
   "id": "8dc8146f",
   "metadata": {},
   "outputs": [
    {
     "name": "stdout",
     "output_type": "stream",
     "text": [
      "3\n"
     ]
    }
   ],
   "source": [
    "a = np.array([1,2,3,4,5,6,7,8,9])\n",
    "b = np.searchsorted(a,4)\n",
    "print(b)"
   ]
  },
  {
   "cell_type": "code",
   "execution_count": 155,
   "id": "8f714c03",
   "metadata": {},
   "outputs": [
    {
     "name": "stdout",
     "output_type": "stream",
     "text": [
      "4\n"
     ]
    }
   ],
   "source": [
    "a = np.array([10,20,30,40,50,60])\n",
    "b = np.searchsorted(a,40,side='right')\n",
    "print(b)"
   ]
  },
  {
   "cell_type": "code",
   "execution_count": 156,
   "id": "68c9130d",
   "metadata": {},
   "outputs": [
    {
     "name": "stdout",
     "output_type": "stream",
     "text": [
      "1\n"
     ]
    }
   ],
   "source": [
    "a= np.array([11,22,33,44])\n",
    "b = np.searchsorted(a,20,side='left')\n",
    "print(b)"
   ]
  },
  {
   "cell_type": "code",
   "execution_count": 158,
   "id": "024c99c3",
   "metadata": {},
   "outputs": [
    {
     "name": "stdout",
     "output_type": "stream",
     "text": [
      "1\n"
     ]
    }
   ],
   "source": [
    "a = np.array([1,2,3,4,5,6,7])\n",
    "b = np.searchsorted(a,1,side='right')\n",
    "print(b)"
   ]
  },
  {
   "cell_type": "code",
   "execution_count": 159,
   "id": "0b7f43df",
   "metadata": {},
   "outputs": [
    {
     "name": "stdout",
     "output_type": "stream",
     "text": [
      "[[1 2 3 4 5 6 7]]\n"
     ]
    }
   ],
   "source": [
    "a = np.array([[1,5,4,6,7,3,2]])\n",
    "b = np.sort(a)\n",
    "print(b)"
   ]
  },
  {
   "cell_type": "code",
   "execution_count": 161,
   "id": "1bbb8e5f",
   "metadata": {},
   "outputs": [
    {
     "name": "stdout",
     "output_type": "stream",
     "text": [
      "[['aa' 'bb' 'cc' 'dd' 'ss']]\n"
     ]
    }
   ],
   "source": [
    "a = np.array([['bb','ss','aa','cc','dd']])\n",
    "b = np.sort(a)\n",
    "print(b)"
   ]
  },
  {
   "cell_type": "code",
   "execution_count": 162,
   "id": "0a14f448",
   "metadata": {},
   "outputs": [
    {
     "name": "stdout",
     "output_type": "stream",
     "text": [
      "[[False  True  True]]\n"
     ]
    }
   ],
   "source": [
    "a = np.array([[True,False,True]])\n",
    "b = np.sort(a)\n",
    "print(b)"
   ]
  },
  {
   "cell_type": "code",
   "execution_count": 163,
   "id": "795be4f1",
   "metadata": {},
   "outputs": [
    {
     "name": "stdout",
     "output_type": "stream",
     "text": [
      "[[0 1 2 3]]\n"
     ]
    }
   ],
   "source": [
    "a = np.array([[3,0,2,1]])\n",
    "b = np.sort(a)\n",
    "print(b)"
   ]
  },
  {
   "cell_type": "code",
   "execution_count": 167,
   "id": "54381726",
   "metadata": {},
   "outputs": [
    {
     "name": "stdout",
     "output_type": "stream",
     "text": [
      "[[11 22 33 44 55]]\n"
     ]
    }
   ],
   "source": [
    "a = np.array([[55,44,33,22,11]])\n",
    "b = np.sort(a,axis=1)\n",
    "print(b)"
   ]
  },
  {
   "cell_type": "code",
   "execution_count": 168,
   "id": "f1037db2",
   "metadata": {},
   "outputs": [
    {
     "name": "stdout",
     "output_type": "stream",
     "text": [
      "[[1 2 3 4 5]]\n"
     ]
    }
   ],
   "source": [
    "a = np.array([[1,2,3,4,5]])\n",
    "b = np.sort(a,axis=1)\n",
    "print(b)"
   ]
  },
  {
   "cell_type": "code",
   "execution_count": 171,
   "id": "e0a4e6a5",
   "metadata": {},
   "outputs": [
    {
     "name": "stdout",
     "output_type": "stream",
     "text": [
      "[[[1 2 3]\n",
      "  [4 6 7]]]\n"
     ]
    }
   ],
   "source": [
    "a = np.array([[[2,1,3],[4,7,6]]])\n",
    "b = np.sort(a,axis=-1)\n",
    "print(b)"
   ]
  },
  {
   "cell_type": "code",
   "execution_count": 175,
   "id": "c1e2f62e",
   "metadata": {},
   "outputs": [
    {
     "name": "stdout",
     "output_type": "stream",
     "text": [
      "[1 3 5 7]\n"
     ]
    }
   ],
   "source": [
    "a = np.array([[1,2,3,4,5,6,7]])\n",
    "b = [[True,False,True,False,True,False,True]]\n",
    "c = a[b]\n",
    "print(c)"
   ]
  },
  {
   "cell_type": "code",
   "execution_count": 178,
   "id": "1eb8ef06",
   "metadata": {},
   "outputs": [
    {
     "name": "stdout",
     "output_type": "stream",
     "text": [
      "[1 4]\n"
     ]
    }
   ],
   "source": [
    "a = np.array([1,2,3,4])\n",
    "b = [True,False,False,True]\n",
    "c = a[b]\n",
    "print(c)"
   ]
  },
  {
   "cell_type": "code",
   "execution_count": 180,
   "id": "e8e02b23",
   "metadata": {},
   "outputs": [
    {
     "name": "stdout",
     "output_type": "stream",
     "text": [
      "[0 1 3]\n"
     ]
    }
   ],
   "source": [
    "a = np.array([1,2,3,4,5,6,7])\n",
    "b = np.searchsorted(a,[1,2,4])\n",
    "print(b)"
   ]
  },
  {
   "cell_type": "code",
   "execution_count": 181,
   "id": "abc58086",
   "metadata": {},
   "outputs": [
    {
     "name": "stdout",
     "output_type": "stream",
     "text": [
      "[1 4]\n"
     ]
    }
   ],
   "source": [
    "a = np.array([[1,2],[3,4]])\n",
    "b = [[True,False],[False,True]]\n",
    "c = a[b]\n",
    "print(c)"
   ]
  },
  {
   "cell_type": "code",
   "execution_count": 183,
   "id": "b3f44125",
   "metadata": {},
   "outputs": [
    {
     "name": "stdout",
     "output_type": "stream",
     "text": [
      "[100 200 300 400 500 600]\n",
      "100\n",
      "200\n",
      "300\n",
      "400\n",
      "500\n",
      "600\n",
      "[False, False, False, False, False, False]\n",
      "[]\n"
     ]
    }
   ],
   "source": [
    "a = np.array([100,200,300,400,500,600])\n",
    "print(a)\n",
    "index =[]\n",
    "for i in a:\n",
    "    print(i)\n",
    "    if i<20:\n",
    "        index.append(True)\n",
    "    else:\n",
    "        index.append(False)\n",
    "print(index)\n",
    "b = a[index]\n",
    "print(b)"
   ]
  },
  {
   "cell_type": "code",
   "execution_count": 185,
   "id": "647cd8bc",
   "metadata": {},
   "outputs": [
    {
     "name": "stdout",
     "output_type": "stream",
     "text": [
      "[10 20 30 40 50 60]\n",
      "10\n",
      "20\n",
      "30\n",
      "40\n",
      "50\n",
      "60\n",
      "[True, True, False, False, False, False]\n",
      "[10 20]\n"
     ]
    }
   ],
   "source": [
    "a = np.array([10,20,30,40,50,60])\n",
    "print(a)\n",
    "index =[]\n",
    "for i in a:\n",
    "    print(i)\n",
    "    if i<22:\n",
    "        index.append(True)\n",
    "    else:\n",
    "        index.append(False)\n",
    "print(index)\n",
    "b = a[index]\n",
    "print(b)"
   ]
  },
  {
   "cell_type": "code",
   "execution_count": 186,
   "id": "e37749e3",
   "metadata": {},
   "outputs": [
    {
     "name": "stdout",
     "output_type": "stream",
     "text": [
      "[11 12 13 14 15 16 17 18]\n",
      "11\n",
      "12\n",
      "13\n",
      "14\n",
      "15\n",
      "16\n",
      "17\n",
      "18\n",
      "[True, False, True, False, True, False, True, False]\n",
      "[11 13 15 17]\n"
     ]
    }
   ],
   "source": [
    "a = np.array([11,12,13,14,15,16,17,18])\n",
    "print(a)\n",
    "index=[]\n",
    "for i in a:\n",
    "    print(i)\n",
    "    if i%2==1:\n",
    "        index.append(True)\n",
    "    else:\n",
    "        index.append(False)\n",
    "print(index)\n",
    "b = a[index]\n",
    "print(b)"
   ]
  },
  {
   "cell_type": "code",
   "execution_count": 195,
   "id": "7bba3361",
   "metadata": {},
   "outputs": [
    {
     "name": "stdout",
     "output_type": "stream",
     "text": [
      "[ 0  1  2  3  4  5  6  7  8  9 10 11 12 13 14 15 16 17 18 19]\n",
      "<class 'numpy.ndarray'>\n",
      "0\n",
      "19\n",
      "0\n",
      "19\n",
      "190\n",
      "9.5\n",
      "(array([ 1,  2,  3,  4,  5,  6,  7,  8,  9, 10, 11, 12, 13, 14, 15, 16, 17,\n",
      "       18, 19], dtype=int64),)\n",
      "[[[ 0]\n",
      "  [ 1]]\n",
      "\n",
      " [[ 2]\n",
      "  [ 3]]\n",
      "\n",
      " [[ 4]\n",
      "  [ 5]]\n",
      "\n",
      " [[ 6]\n",
      "  [ 7]]\n",
      "\n",
      " [[ 8]\n",
      "  [ 9]]\n",
      "\n",
      " [[10]\n",
      "  [11]]\n",
      "\n",
      " [[12]\n",
      "  [13]]\n",
      "\n",
      " [[14]\n",
      "  [15]]\n",
      "\n",
      " [[16]\n",
      "  [17]]\n",
      "\n",
      " [[18]\n",
      "  [19]]]\n",
      "[[0 3]]\n",
      "[ 0  1  2  3  4  5  6  7  8  9 10 11 12 13 14 15 16 17 18 19]\n"
     ]
    }
   ],
   "source": [
    "a = np.arange(20)\n",
    "print(a)\n",
    "print(type(a))\n",
    "print(a.min())\n",
    "print(a.max())\n",
    "print(a.argmin())\n",
    "print(a.argmax())\n",
    "print(a.sum())\n",
    "print(a.mean())\n",
    "print(a.nonzero())\n",
    "b = a.reshape(10,2,1)\n",
    "print(b)\n",
    "print(b.diagonal())\n",
    "print(b.ravel())\n"
   ]
  },
  {
   "cell_type": "code",
   "execution_count": 198,
   "id": "962f0303",
   "metadata": {},
   "outputs": [
    {
     "name": "stdout",
     "output_type": "stream",
     "text": [
      "[10.          9.83673469  9.67346939  9.51020408  9.34693878  9.18367347\n",
      "  9.02040816  8.85714286  8.69387755  8.53061224  8.36734694  8.20408163\n",
      "  8.04081633  7.87755102  7.71428571  7.55102041  7.3877551   7.2244898\n",
      "  7.06122449  6.89795918  6.73469388  6.57142857  6.40816327  6.24489796\n",
      "  6.08163265  5.91836735  5.75510204  5.59183673  5.42857143  5.26530612\n",
      "  5.10204082  4.93877551  4.7755102   4.6122449   4.44897959  4.28571429\n",
      "  4.12244898  3.95918367  3.79591837  3.63265306  3.46938776  3.30612245\n",
      "  3.14285714  2.97959184  2.81632653  2.65306122  2.48979592  2.32653061\n",
      "  2.16326531  2.        ]\n"
     ]
    }
   ],
   "source": [
    "a = np.linspace(10,2)\n",
    "print(a)\n"
   ]
  },
  {
   "cell_type": "code",
   "execution_count": 199,
   "id": "a93a2271",
   "metadata": {},
   "outputs": [
    {
     "name": "stdout",
     "output_type": "stream",
     "text": [
      "[[[ 0.45952839]\n",
      "  [ 2.14708473]]\n",
      "\n",
      " [[-1.96666298]\n",
      "  [-1.57195954]]\n",
      "\n",
      " [[-0.80540558]\n",
      "  [-0.17655183]]\n",
      "\n",
      " [[-0.83331329]\n",
      "  [ 0.54882694]]\n",
      "\n",
      " [[ 0.42131972]\n",
      "  [-0.94076644]]\n",
      "\n",
      " [[-0.56880114]\n",
      "  [ 1.20676885]]\n",
      "\n",
      " [[ 0.10022148]\n",
      "  [ 0.27403374]]\n",
      "\n",
      " [[-0.29214777]\n",
      "  [ 1.65018409]]\n",
      "\n",
      " [[-1.60348075]\n",
      "  [-0.45285943]]\n",
      "\n",
      " [[ 0.07964512]\n",
      "  [-1.2105347 ]]]\n"
     ]
    }
   ],
   "source": [
    "a = np.random.randn(10,2,1)\n",
    "print(a)"
   ]
  },
  {
   "cell_type": "code",
   "execution_count": 201,
   "id": "838fa625",
   "metadata": {},
   "outputs": [
    {
     "name": "stdout",
     "output_type": "stream",
     "text": [
      "[[1. 0.]\n",
      " [0. 1.]\n",
      " [0. 0.]\n",
      " [0. 0.]\n",
      " [0. 0.]]\n"
     ]
    }
   ],
   "source": [
    "a=np.eye(5,2)\n",
    "print(a)"
   ]
  },
  {
   "cell_type": "code",
   "execution_count": 202,
   "id": "164c3742",
   "metadata": {},
   "outputs": [
    {
     "name": "stdout",
     "output_type": "stream",
     "text": [
      "[[[1.]\n",
      "  [1.]\n",
      "  [1.]\n",
      "  [1.]\n",
      "  [1.]]\n",
      "\n",
      " [[1.]\n",
      "  [1.]\n",
      "  [1.]\n",
      "  [1.]\n",
      "  [1.]]]\n"
     ]
    }
   ],
   "source": [
    "a = np.ones((2,5,1))\n",
    "print(a)"
   ]
  },
  {
   "cell_type": "code",
   "execution_count": 204,
   "id": "8b2840b7",
   "metadata": {},
   "outputs": [
    {
     "name": "stdout",
     "output_type": "stream",
     "text": [
      "[[5 0]\n",
      " [0 2]]\n"
     ]
    }
   ],
   "source": [
    "a = np.diag([5,2])\n",
    "print(a)"
   ]
  },
  {
   "cell_type": "code",
   "execution_count": 207,
   "id": "f9e21620",
   "metadata": {},
   "outputs": [
    {
     "name": "stdout",
     "output_type": "stream",
     "text": [
      "[20.]\n"
     ]
    }
   ],
   "source": [
    "a = np.linspace(20,10,1)\n",
    "print(a)"
   ]
  },
  {
   "cell_type": "code",
   "execution_count": 1,
   "id": "9deb163a",
   "metadata": {},
   "outputs": [],
   "source": [
    "import numpy as np"
   ]
  },
  {
   "cell_type": "code",
   "execution_count": 3,
   "id": "eacf7961",
   "metadata": {},
   "outputs": [
    {
     "name": "stdout",
     "output_type": "stream",
     "text": [
      "[1 2 3 4 5 6 7]\n",
      "<class 'numpy.ndarray'>\n",
      "1\n",
      "2\n",
      "3\n",
      "4\n",
      "5\n",
      "6\n",
      "7\n"
     ]
    }
   ],
   "source": [
    "a = np.array([1,2,3,4,5,6,7])\n",
    "print(a)\n",
    "print(type(a))\n",
    "for i in a:\n",
    "    print(i)"
   ]
  },
  {
   "cell_type": "code",
   "execution_count": 4,
   "id": "8555c3a2",
   "metadata": {},
   "outputs": [
    {
     "name": "stdout",
     "output_type": "stream",
     "text": [
      "[[10 20 30 40]\n",
      " [50 60 70 80]]\n"
     ]
    }
   ],
   "source": [
    "a = [[10,20,30,40],[50,60,70,80]]\n",
    "b = np.array(a)\n",
    "print(b)"
   ]
  },
  {
   "cell_type": "code",
   "execution_count": 6,
   "id": "c9f41e4f",
   "metadata": {},
   "outputs": [
    {
     "name": "stdout",
     "output_type": "stream",
     "text": [
      "[[[11 22 33 44 55 66 77]]]\n",
      "[[11 22 33 44 55 66 77]]\n"
     ]
    }
   ],
   "source": [
    "a = np.array ([[[11,22,33,44,55,66,77]]])\n",
    "print(a)\n",
    "for i in a:\n",
    "    print(i)"
   ]
  },
  {
   "cell_type": "code",
   "execution_count": 8,
   "id": "1116ef47",
   "metadata": {},
   "outputs": [
    {
     "name": "stdout",
     "output_type": "stream",
     "text": [
      "0\n",
      "1\n",
      "2\n",
      "3\n"
     ]
    }
   ],
   "source": [
    "a = np.array(10)\n",
    "b = np.array([10,20,30])\n",
    "c = np.array([[11,22,33,44]])\n",
    "d = np.array([[[100,200,300,400,500]]])\n",
    "print(a.ndim)\n",
    "print(b.ndim)\n",
    "print(c.ndim)\n",
    "print(d.ndim)"
   ]
  },
  {
   "cell_type": "code",
   "execution_count": 9,
   "id": "a758005a",
   "metadata": {},
   "outputs": [
    {
     "name": "stdout",
     "output_type": "stream",
     "text": [
      "[[[[[10 20 30 40]]]]]\n"
     ]
    }
   ],
   "source": [
    "a = np.array([10,20,30,40], ndmin = 5)\n",
    "print(a)"
   ]
  },
  {
   "cell_type": "code",
   "execution_count": 12,
   "id": "17d5457b",
   "metadata": {},
   "outputs": [
    {
     "name": "stdout",
     "output_type": "stream",
     "text": [
      "[10 20 30]\n",
      "1\n"
     ]
    }
   ],
   "source": [
    "a = (10,20,30)\n",
    "b = np.array(a)\n",
    "print(b)\n",
    "print(b.ndim)"
   ]
  },
  {
   "cell_type": "code",
   "execution_count": 13,
   "id": "1744b470",
   "metadata": {},
   "outputs": [
    {
     "data": {
      "text/plain": [
       "10"
      ]
     },
     "execution_count": 13,
     "metadata": {},
     "output_type": "execute_result"
    }
   ],
   "source": [
    "b[0]"
   ]
  },
  {
   "cell_type": "code",
   "execution_count": 14,
   "id": "53e28532",
   "metadata": {},
   "outputs": [
    {
     "data": {
      "text/plain": [
       "array([10, 20])"
      ]
     },
     "execution_count": 14,
     "metadata": {},
     "output_type": "execute_result"
    }
   ],
   "source": [
    "b[[0,1]]"
   ]
  },
  {
   "cell_type": "code",
   "execution_count": 16,
   "id": "697cedb3",
   "metadata": {},
   "outputs": [
    {
     "name": "stdout",
     "output_type": "stream",
     "text": [
      "[[1 2 3 4]\n",
      " [5 6 7 8]]\n"
     ]
    }
   ],
   "source": [
    "a = [1,2,3,4],[5,6,7,8]\n",
    "b = np.array(a)\n",
    "print(b)"
   ]
  },
  {
   "cell_type": "code",
   "execution_count": 24,
   "id": "0ad33ec3",
   "metadata": {},
   "outputs": [
    {
     "name": "stdout",
     "output_type": "stream",
     "text": [
      "[5 6 7 8]\n",
      "3\n",
      "2\n",
      "[[1 2 3]]\n",
      "[[5 6]]\n"
     ]
    }
   ],
   "source": [
    "b[0]\n",
    "print(b[1])\n",
    "print(b[0,2])\n",
    "print(b[0,1])\n",
    "print(b[0:1,0:3])\n",
    "print(b[1:,0:2])"
   ]
  },
  {
   "cell_type": "code",
   "execution_count": 25,
   "id": "04cf6b00",
   "metadata": {},
   "outputs": [
    {
     "name": "stdout",
     "output_type": "stream",
     "text": [
      "[[[1 2 3 4]\n",
      "  [5 6 7 8]]]\n"
     ]
    }
   ],
   "source": [
    "a = [[[1,2,3,4],[5,6,7,8]]]\n",
    "b = np.array(a)\n",
    "print(b)"
   ]
  },
  {
   "cell_type": "code",
   "execution_count": 46,
   "id": "e1a5b300",
   "metadata": {},
   "outputs": [
    {
     "name": "stdout",
     "output_type": "stream",
     "text": [
      "[[1 2 3 4]\n",
      " [5 6 7 8]]\n",
      "2\n",
      "[[[1 2]]]\n",
      "3\n",
      "7\n",
      "[[[1 2 3 4]\n",
      "  [5 6 7 8]]]\n",
      "[[[1 2 3 4]\n",
      "  [5 6 7 8]]]\n",
      "[[[1 2 3 4]\n",
      "  [5 6 7 8]]]\n",
      "[7]\n"
     ]
    }
   ],
   "source": [
    "print(b[0])\n",
    "print(b[0,0,1])\n",
    "print(b[0:1,0:1,0:2])\n",
    "print(b[0][0][2])\n",
    "print(b[0][1][2])\n",
    "print(b[:10:2])\n",
    "print(b[::4])\n",
    "print(b[0:1:2])\n",
    "print(b[0,1:3,2])"
   ]
  },
  {
   "cell_type": "code",
   "execution_count": 47,
   "id": "b714985c",
   "metadata": {},
   "outputs": [
    {
     "name": "stdout",
     "output_type": "stream",
     "text": [
      "[1 2 3 4 5 6]\n",
      "int32\n"
     ]
    }
   ],
   "source": [
    "a = np.array([1,2,3,4,5,6])\n",
    "print(a)\n",
    "print(a.dtype)"
   ]
  },
  {
   "cell_type": "code",
   "execution_count": 48,
   "id": "2d9a224d",
   "metadata": {},
   "outputs": [
    {
     "name": "stdout",
     "output_type": "stream",
     "text": [
      "[1.1 2.2 3.3 4.4]\n",
      "float64\n"
     ]
    }
   ],
   "source": [
    "a = np.array([1.1,2.2,3.3,4.4])\n",
    "print(a)\n",
    "print(a.dtype)"
   ]
  },
  {
   "cell_type": "code",
   "execution_count": 49,
   "id": "bf56ddeb",
   "metadata": {},
   "outputs": [
    {
     "name": "stdout",
     "output_type": "stream",
     "text": [
      "[ True False]\n",
      "bool\n"
     ]
    }
   ],
   "source": [
    "a = np.array([True, False])\n",
    "print(a)\n",
    "print(a.dtype)"
   ]
  },
  {
   "cell_type": "code",
   "execution_count": 50,
   "id": "87b0df96",
   "metadata": {},
   "outputs": [
    {
     "name": "stdout",
     "output_type": "stream",
     "text": [
      "[1. 2. 3. 4. 5.]\n",
      "float64\n"
     ]
    }
   ],
   "source": [
    "a = np.array([1,2,3,4,5], dtype = 'float')\n",
    "print(a)\n",
    "print(a.dtype)"
   ]
  },
  {
   "cell_type": "code",
   "execution_count": 51,
   "id": "995e0cce",
   "metadata": {},
   "outputs": [
    {
     "name": "stdout",
     "output_type": "stream",
     "text": [
      "['aa' 'bb' 'cc' 'dd']\n",
      "<U2\n"
     ]
    }
   ],
   "source": [
    "a = np.array(['aa','bb','cc','dd'])\n",
    "print(a)\n",
    "print(a.dtype)"
   ]
  },
  {
   "cell_type": "code",
   "execution_count": 53,
   "id": "08f8d352",
   "metadata": {},
   "outputs": [
    {
     "name": "stdout",
     "output_type": "stream",
     "text": [
      "['11' '22' '33' '44']\n",
      "<U2\n"
     ]
    }
   ],
   "source": [
    "a = np.array([11,22,33,44], dtype = 'U')\n",
    "print(a)\n",
    "print(a.dtype)"
   ]
  },
  {
   "cell_type": "code",
   "execution_count": 54,
   "id": "6848e547",
   "metadata": {},
   "outputs": [
    {
     "name": "stdout",
     "output_type": "stream",
     "text": [
      "[1. 2. 3. 4. 5.]\n"
     ]
    }
   ],
   "source": [
    "a = np.array([1,2,3,4,5])\n",
    "b = a.astype('float')\n",
    "print(b)"
   ]
  },
  {
   "cell_type": "code",
   "execution_count": 58,
   "id": "4aabf0e9",
   "metadata": {},
   "outputs": [
    {
     "name": "stdout",
     "output_type": "stream",
     "text": [
      "[ True  True  True False]\n"
     ]
    }
   ],
   "source": [
    "a = np.array([1+2j,3+4j,5+6j,0+0j])\n",
    "b = a.astype('bool')\n",
    "print(b)"
   ]
  },
  {
   "cell_type": "code",
   "execution_count": 59,
   "id": "ba5fa92c",
   "metadata": {},
   "outputs": [
    {
     "name": "stdout",
     "output_type": "stream",
     "text": [
      "[1.+0.j 0.+0.j 2.+0.j]\n"
     ]
    }
   ],
   "source": [
    "a = np.array([1,0,2])\n",
    "b = a.astype('complex')\n",
    "print(b)"
   ]
  },
  {
   "cell_type": "code",
   "execution_count": 60,
   "id": "be8594a3",
   "metadata": {},
   "outputs": [
    {
     "name": "stdout",
     "output_type": "stream",
     "text": [
      "[10 20 30 40]\n",
      "[10 20 30 40]\n",
      "[100  20  30  40]\n"
     ]
    }
   ],
   "source": [
    "a = np.array([10,20,30,40])\n",
    "print(a)\n",
    "b = a.copy()\n",
    "b[0]=100\n",
    "print(a)\n",
    "print(b)"
   ]
  },
  {
   "cell_type": "code",
   "execution_count": 61,
   "id": "413d8ffe",
   "metadata": {},
   "outputs": [
    {
     "name": "stdout",
     "output_type": "stream",
     "text": [
      "[[  1 200   3   4   5   6]]\n",
      "[[  1 200   3   4   5   6]]\n"
     ]
    }
   ],
   "source": [
    "a = np.array([[1,2,3,4,5,6]])\n",
    "b = a.view()\n",
    "b[0,1]=200\n",
    "print(a)\n",
    "print(b)"
   ]
  },
  {
   "cell_type": "code",
   "execution_count": 62,
   "id": "5219f121",
   "metadata": {},
   "outputs": [
    {
     "name": "stdout",
     "output_type": "stream",
     "text": [
      "[1 2 3 4 5 6]\n",
      "None\n",
      "[1 2 3 4 5 6]\n"
     ]
    }
   ],
   "source": [
    "a = np.array([1,2,3,4,5,6])\n",
    "print(a)\n",
    "b = a.copy()\n",
    "c = a.view()\n",
    "print(b.base)\n",
    "print(c.base)"
   ]
  },
  {
   "cell_type": "code",
   "execution_count": 63,
   "id": "6b62e8cf",
   "metadata": {},
   "outputs": [
    {
     "name": "stdout",
     "output_type": "stream",
     "text": [
      "[[[1]\n",
      "  [2]]\n",
      "\n",
      " [[3]\n",
      "  [4]]\n",
      "\n",
      " [[5]\n",
      "  [6]]\n",
      "\n",
      " [[7]\n",
      "  [8]]]\n"
     ]
    }
   ],
   "source": [
    "a = np.array([1,2,3,4,5,6,7,8])\n",
    "b = a.reshape(4,2,1)\n",
    "print(b)"
   ]
  },
  {
   "cell_type": "code",
   "execution_count": 64,
   "id": "4b4ec1f3",
   "metadata": {},
   "outputs": [
    {
     "name": "stdout",
     "output_type": "stream",
     "text": [
      "[[[1]\n",
      "  [2]]\n",
      "\n",
      " [[3]\n",
      "  [4]]\n",
      "\n",
      " [[5]\n",
      "  [6]]\n",
      "\n",
      " [[7]\n",
      "  [8]]]\n"
     ]
    }
   ],
   "source": [
    "a = np.array([[1,2,3,4,5,6,7,8]])\n",
    "b = a.reshape(4,2,-1)\n",
    "print(b)"
   ]
  },
  {
   "cell_type": "code",
   "execution_count": 65,
   "id": "e3423448",
   "metadata": {},
   "outputs": [
    {
     "name": "stdout",
     "output_type": "stream",
     "text": [
      "[1 2 3 4 5]\n"
     ]
    }
   ],
   "source": [
    "a = np.array([[[1,2,3,4,5]]])\n",
    "b = a.reshape(-1)\n",
    "print(b)"
   ]
  },
  {
   "cell_type": "code",
   "execution_count": 66,
   "id": "38ac5064",
   "metadata": {},
   "outputs": [
    {
     "name": "stdout",
     "output_type": "stream",
     "text": [
      "1\n",
      "2\n",
      "3\n",
      "4\n",
      "5\n",
      "6\n"
     ]
    }
   ],
   "source": [
    "a = np.array([1,2,3,4,5,6])\n",
    "for i in a:\n",
    "    print(i)"
   ]
  },
  {
   "cell_type": "code",
   "execution_count": 67,
   "id": "ad6522cc",
   "metadata": {},
   "outputs": [
    {
     "name": "stdout",
     "output_type": "stream",
     "text": [
      "10\n",
      "20\n",
      "30\n",
      "40\n",
      "50\n"
     ]
    }
   ],
   "source": [
    "a = np.array([[10,20,30,40,50]])\n",
    "for i in np.nditer(a):\n",
    "    print(i)"
   ]
  },
  {
   "cell_type": "code",
   "execution_count": 71,
   "id": "1c9c5043",
   "metadata": {},
   "outputs": [
    {
     "name": "stdout",
     "output_type": "stream",
     "text": [
      "b'1'\n",
      "b'2'\n",
      "b'3'\n",
      "b'4'\n",
      "b'5'\n",
      "b'6'\n",
      "b'7'\n",
      "b'8'\n"
     ]
    }
   ],
   "source": [
    "a = np.array([[[1,2,3,4,5,6,7,8]]])\n",
    "for i in np.nditer(a, flags = ['buffered'], op_dtypes = ['S']):\n",
    "    print(i)"
   ]
  },
  {
   "cell_type": "code",
   "execution_count": 70,
   "id": "7f282f98",
   "metadata": {},
   "outputs": [
    {
     "name": "stdout",
     "output_type": "stream",
     "text": [
      "11\n",
      "22\n",
      "33\n",
      "44\n"
     ]
    }
   ],
   "source": [
    "a = np.array(['11','22','33','44'])\n",
    "for i in np.nditer(a, flags = ['buffered'], op_dtypes = ['U']):\n",
    "    print(i)"
   ]
  },
  {
   "cell_type": "code",
   "execution_count": 72,
   "id": "6436f652",
   "metadata": {},
   "outputs": [
    {
     "name": "stdout",
     "output_type": "stream",
     "text": [
      "1\n",
      "2\n",
      "3\n",
      "4\n"
     ]
    }
   ],
   "source": [
    "a = np.array([[1,2,3,4],[5,6,7,8]])\n",
    "for i in np.nditer(a[0:1]):\n",
    "    print(i)"
   ]
  },
  {
   "cell_type": "code",
   "execution_count": 73,
   "id": "3980833e",
   "metadata": {},
   "outputs": [
    {
     "name": "stdout",
     "output_type": "stream",
     "text": [
      "((0, 0), 1)\n",
      "((0, 1), 2)\n",
      "((0, 2), 3)\n",
      "((0, 3), 4)\n",
      "((0, 4), 5)\n",
      "((0, 5), 6)\n",
      "((0, 6), 7)\n"
     ]
    }
   ],
   "source": [
    "a = np.array([[1,2,3,4,5,6,7]])\n",
    "for i in np.ndenumerate(a):\n",
    "    print(i)"
   ]
  },
  {
   "cell_type": "code",
   "execution_count": 74,
   "id": "e86c6e48",
   "metadata": {},
   "outputs": [
    {
     "name": "stdout",
     "output_type": "stream",
     "text": [
      "1\n"
     ]
    }
   ],
   "source": [
    "print(a[0][0])"
   ]
  },
  {
   "cell_type": "code",
   "execution_count": 80,
   "id": "e37da0c4",
   "metadata": {},
   "outputs": [
    {
     "name": "stdout",
     "output_type": "stream",
     "text": [
      "[1 2 3 4 5 6]\n"
     ]
    }
   ],
   "source": [
    "a = np.array([1,2,3])\n",
    "b = np.array([4,5,6])\n",
    "c = np.concatenate((a,b), axis =0)\n",
    "print(c)"
   ]
  },
  {
   "cell_type": "code",
   "execution_count": 78,
   "id": "e6351eb7",
   "metadata": {},
   "outputs": [
    {
     "name": "stdout",
     "output_type": "stream",
     "text": [
      "[[10 40]\n",
      " [20 50]\n",
      " [30 60]]\n"
     ]
    }
   ],
   "source": [
    "a = np.array([10,20,30])\n",
    "b = np.array([40,50,60])\n",
    "c = np.stack((a,b), axis = 1)\n",
    "print(c)"
   ]
  },
  {
   "cell_type": "code",
   "execution_count": 84,
   "id": "e09a2672",
   "metadata": {},
   "outputs": [
    {
     "name": "stdout",
     "output_type": "stream",
     "text": [
      "[11 22 33]\n"
     ]
    }
   ],
   "source": [
    "a = np.array([[11,22,33]])\n",
    "b = np.array([[44,55,66]])\n",
    "c = np.hstack(a)\n",
    "print(c)"
   ]
  },
  {
   "cell_type": "code",
   "execution_count": 85,
   "id": "804d87fa",
   "metadata": {},
   "outputs": [
    {
     "name": "stdout",
     "output_type": "stream",
     "text": [
      "[[11 22 33]]\n"
     ]
    }
   ],
   "source": [
    "a = np.array([[11,22,33]])\n",
    "b = np.array([[44,55,66]])\n",
    "c = np.vstack(a)\n",
    "print(c)"
   ]
  },
  {
   "cell_type": "code",
   "execution_count": 86,
   "id": "c5ab23c2",
   "metadata": {},
   "outputs": [
    {
     "name": "stdout",
     "output_type": "stream",
     "text": [
      "[[[11]\n",
      "  [22]\n",
      "  [33]]]\n"
     ]
    }
   ],
   "source": [
    "a = np.array([[11,22,33]])\n",
    "b = np.array([[44,55,66]])\n",
    "c = np.dstack(a)\n",
    "print(c)"
   ]
  },
  {
   "cell_type": "code",
   "execution_count": 89,
   "id": "9b88ce81",
   "metadata": {},
   "outputs": [
    {
     "name": "stdout",
     "output_type": "stream",
     "text": [
      "[array([1, 2, 3, 4]), array([5, 6, 7, 8])]\n"
     ]
    }
   ],
   "source": [
    "a = np.array([1,2,3,4,5,6,7,8])\n",
    "b = np.split(a,2)\n",
    "print(b)"
   ]
  },
  {
   "cell_type": "code",
   "execution_count": 94,
   "id": "88214a05",
   "metadata": {},
   "outputs": [
    {
     "name": "stdout",
     "output_type": "stream",
     "text": [
      "[[[10 20 30 40]\n",
      "  [50 60 70 80]]]\n"
     ]
    }
   ],
   "source": [
    "a = np.array([[[10,20,30,40],[50,60,70,80]]])\n",
    "b = np.split(a,1,axis=1)\n",
    "b\n",
    "for i in b:\n",
    "    print(i)"
   ]
  },
  {
   "cell_type": "code",
   "execution_count": 95,
   "id": "200a59f5",
   "metadata": {},
   "outputs": [
    {
     "data": {
      "text/plain": [
       "[array([[1, 2, 3]]), array([[4, 5, 6]])]"
      ]
     },
     "execution_count": 95,
     "metadata": {},
     "output_type": "execute_result"
    }
   ],
   "source": [
    "a = np.array([[1,2,3],[4,5,6]])\n",
    "b = np.array_split(a,2)\n",
    "b"
   ]
  },
  {
   "cell_type": "code",
   "execution_count": 96,
   "id": "4aa08593",
   "metadata": {},
   "outputs": [
    {
     "data": {
      "text/plain": [
       "array([[1, 2, 3]])"
      ]
     },
     "execution_count": 96,
     "metadata": {},
     "output_type": "execute_result"
    }
   ],
   "source": [
    "b[0]"
   ]
  },
  {
   "cell_type": "code",
   "execution_count": 97,
   "id": "9ec3cee3",
   "metadata": {},
   "outputs": [
    {
     "data": {
      "text/plain": [
       "array([[4, 5, 6]])"
      ]
     },
     "execution_count": 97,
     "metadata": {},
     "output_type": "execute_result"
    }
   ],
   "source": [
    "b[1]"
   ]
  },
  {
   "cell_type": "code",
   "execution_count": 98,
   "id": "335d9b27",
   "metadata": {},
   "outputs": [
    {
     "name": "stdout",
     "output_type": "stream",
     "text": [
      "[array([[1, 2],\n",
      "       [5, 6]]), array([[3, 4],\n",
      "       [7, 8]])]\n"
     ]
    }
   ],
   "source": [
    "a = np.array([[1,2,3,4],[5,6,7,8]])\n",
    "b = np.array_split(a,2,axis=1)\n",
    "print(b)"
   ]
  },
  {
   "cell_type": "code",
   "execution_count": 100,
   "id": "9f5c3a8d",
   "metadata": {},
   "outputs": [
    {
     "data": {
      "text/plain": [
       "[array([1, 2, 3]), array([4, 5, 6])]"
      ]
     },
     "execution_count": 100,
     "metadata": {},
     "output_type": "execute_result"
    }
   ],
   "source": [
    "a = np.array([1,2,3,4,5,6])\n",
    "b = np.hsplit(a,2)\n",
    "b"
   ]
  },
  {
   "cell_type": "code",
   "execution_count": 103,
   "id": "67fcb8bd",
   "metadata": {},
   "outputs": [
    {
     "data": {
      "text/plain": [
       "[array([[11, 22, 33, 44, 55, 66]])]"
      ]
     },
     "execution_count": 103,
     "metadata": {},
     "output_type": "execute_result"
    }
   ],
   "source": [
    "a = np.array([[11,22,33,44,55,66]])\n",
    "b = np.vsplit(a,1)\n",
    "b"
   ]
  },
  {
   "cell_type": "code",
   "execution_count": 105,
   "id": "92945722",
   "metadata": {},
   "outputs": [
    {
     "data": {
      "text/plain": [
       "[array([[[1, 2],\n",
       "         [5, 6]]]),\n",
       " array([[[3, 4],\n",
       "         [7, 8]]])]"
      ]
     },
     "execution_count": 105,
     "metadata": {},
     "output_type": "execute_result"
    }
   ],
   "source": [
    "a = np.array([[[1,2,3,4],[5,6,7,8]]])\n",
    "b = np.dsplit(a,2)\n",
    "b"
   ]
  },
  {
   "cell_type": "code",
   "execution_count": 106,
   "id": "2ff2b2ad",
   "metadata": {},
   "outputs": [
    {
     "data": {
      "text/plain": [
       "(array([2], dtype=int64),)"
      ]
     },
     "execution_count": 106,
     "metadata": {},
     "output_type": "execute_result"
    }
   ],
   "source": [
    "a = np.array([3,2,4,1,5,6])\n",
    "b = np.where(a==4)\n",
    "b"
   ]
  },
  {
   "cell_type": "code",
   "execution_count": 107,
   "id": "3c2ed0e3",
   "metadata": {},
   "outputs": [
    {
     "data": {
      "text/plain": [
       "(array([0, 0, 0, 0, 0, 0], dtype=int64),\n",
       " array([0, 0, 0, 1, 1, 1], dtype=int64),\n",
       " array([0, 1, 2, 0, 1, 2], dtype=int64))"
      ]
     },
     "execution_count": 107,
     "metadata": {},
     "output_type": "execute_result"
    }
   ],
   "source": [
    "a = np.array([[[10,20,30],[50,40,60]]])\n",
    "b = np.where(a%2==0)\n",
    "b"
   ]
  },
  {
   "cell_type": "code",
   "execution_count": 113,
   "id": "921acfb0",
   "metadata": {},
   "outputs": [
    {
     "name": "stdout",
     "output_type": "stream",
     "text": [
      "[[1 2 3 4 5 6 7 8]]\n",
      "[[ 3  4  5  6  7  8  9 10]]\n",
      "[[ 5 10 15 20 25 30 35 40]]\n",
      "[[0.2 0.4 0.6 0.8 1.  1.2 1.4 1.6]]\n",
      "[[1 0 1 0 1 0 1 0]]\n",
      "[[  1   8  27  64 125 216 343 512]]\n"
     ]
    }
   ],
   "source": [
    "a = np.array([[1,2,3,4,5,6,7,8]])\n",
    "print(a)\n",
    "print(a+2)\n",
    "print(a*5)\n",
    "print(a/5)\n",
    "print(a%2)\n",
    "print(a**3)"
   ]
  },
  {
   "cell_type": "code",
   "execution_count": 114,
   "id": "962bd80a",
   "metadata": {},
   "outputs": [
    {
     "data": {
      "text/plain": [
       "3"
      ]
     },
     "execution_count": 114,
     "metadata": {},
     "output_type": "execute_result"
    }
   ],
   "source": [
    "a = np.array([1,2,3,4,5,6])\n",
    "b = np.searchsorted(a,4)\n",
    "b\n"
   ]
  },
  {
   "cell_type": "code",
   "execution_count": 115,
   "id": "cdab781f",
   "metadata": {},
   "outputs": [
    {
     "data": {
      "text/plain": [
       "2"
      ]
     },
     "execution_count": 115,
     "metadata": {},
     "output_type": "execute_result"
    }
   ],
   "source": [
    "a = np.array([10,20,30,40,50])\n",
    "b = np.searchsorted(a, 20, side = 'right')\n",
    "b"
   ]
  },
  {
   "cell_type": "code",
   "execution_count": 116,
   "id": "2820cd3c",
   "metadata": {},
   "outputs": [
    {
     "data": {
      "text/plain": [
       "array([1, 3, 5], dtype=int64)"
      ]
     },
     "execution_count": 116,
     "metadata": {},
     "output_type": "execute_result"
    }
   ],
   "source": [
    "a = np.array([10,20,30,40,50,60,70,80])\n",
    "b = np.searchsorted(a,[20,40,60])\n",
    "b"
   ]
  },
  {
   "cell_type": "code",
   "execution_count": 117,
   "id": "08bd4a56",
   "metadata": {},
   "outputs": [
    {
     "data": {
      "text/plain": [
       "array([[11, 22, 33, 44, 55, 66]])"
      ]
     },
     "execution_count": 117,
     "metadata": {},
     "output_type": "execute_result"
    }
   ],
   "source": [
    "a = np.array([[11,22,55,66,44,33]])\n",
    "b = np.sort(a)\n",
    "b"
   ]
  },
  {
   "cell_type": "code",
   "execution_count": 120,
   "id": "e6bdc2e9",
   "metadata": {},
   "outputs": [
    {
     "data": {
      "text/plain": [
       "array([[[1, 2, 3],\n",
       "        [4, 5, 6]]])"
      ]
     },
     "execution_count": 120,
     "metadata": {},
     "output_type": "execute_result"
    }
   ],
   "source": [
    "a = np.array([[[1,3,2],[6,5,4]]])\n",
    "b = np.sort(a, axis=2)\n",
    "b"
   ]
  },
  {
   "cell_type": "code",
   "execution_count": 121,
   "id": "bef46398",
   "metadata": {},
   "outputs": [
    {
     "data": {
      "text/plain": [
       "array(['aa', 'bb', 'ee', 'gg', 'rr'], dtype='<U2')"
      ]
     },
     "execution_count": 121,
     "metadata": {},
     "output_type": "execute_result"
    }
   ],
   "source": [
    "a = np.array(['rr','gg','aa','bb','ee'])\n",
    "b = np.sort(a)\n",
    "b\n"
   ]
  },
  {
   "cell_type": "code",
   "execution_count": 122,
   "id": "920b0d79",
   "metadata": {},
   "outputs": [
    {
     "data": {
      "text/plain": [
       "array([False,  True])"
      ]
     },
     "execution_count": 122,
     "metadata": {},
     "output_type": "execute_result"
    }
   ],
   "source": [
    "a = np.array([True, False])\n",
    "b = np.sort(a)\n",
    "b"
   ]
  },
  {
   "cell_type": "code",
   "execution_count": 124,
   "id": "661a78b1",
   "metadata": {},
   "outputs": [
    {
     "data": {
      "text/plain": [
       "array([1, 3])"
      ]
     },
     "execution_count": 124,
     "metadata": {},
     "output_type": "execute_result"
    }
   ],
   "source": [
    "a = np.array([1,2,3])\n",
    "b = [True, False, True]\n",
    "c = a[b]\n",
    "c"
   ]
  },
  {
   "cell_type": "code",
   "execution_count": 126,
   "id": "1b4937c5",
   "metadata": {},
   "outputs": [
    {
     "name": "stdout",
     "output_type": "stream",
     "text": [
      "[1 2 3 4 5 6 7 8 9]\n",
      "1\n",
      "2\n",
      "3\n",
      "4\n",
      "5\n",
      "6\n",
      "7\n",
      "8\n",
      "9\n",
      "[True, True, True, True, True, True, True, True, True]\n",
      "[1 2 3 4 5 6 7 8 9]\n"
     ]
    }
   ],
   "source": [
    "a = np.array([1,2,3,4,5,6,7,8,9])\n",
    "print(a)\n",
    "index = []\n",
    "for i in a:\n",
    "    print(i)\n",
    "    if i<15:\n",
    "        index.append(True)\n",
    "    else:\n",
    "        index.append(False)\n",
    "print(index)\n",
    "b = a[index]\n",
    "print(b)"
   ]
  },
  {
   "cell_type": "code",
   "execution_count": 128,
   "id": "00457981",
   "metadata": {},
   "outputs": [
    {
     "name": "stdout",
     "output_type": "stream",
     "text": [
      "[11 22 33 44 55 66]\n",
      "11\n",
      "22\n",
      "33\n",
      "44\n",
      "55\n",
      "66\n",
      "[True, False, True, False, True, False]\n"
     ]
    },
    {
     "data": {
      "text/plain": [
       "array([11, 33, 55])"
      ]
     },
     "execution_count": 128,
     "metadata": {},
     "output_type": "execute_result"
    }
   ],
   "source": [
    "a = np.array([11,22,33,44,55,66])\n",
    "print(a)\n",
    "index = []\n",
    "for i in a:\n",
    "    print(i)\n",
    "    if i%2==1:\n",
    "        index.append(True)\n",
    "    else:\n",
    "        index.append(False)\n",
    "print(index)\n",
    "b = a[index]\n",
    "b"
   ]
  },
  {
   "cell_type": "code",
   "execution_count": 129,
   "id": "85b718c6",
   "metadata": {},
   "outputs": [
    {
     "name": "stdout",
     "output_type": "stream",
     "text": [
      "[ 0  1  2  3  4  5  6  7  8  9 10 11 12 13 14 15 16 17 18 19]\n",
      "<class 'numpy.ndarray'>\n"
     ]
    }
   ],
   "source": [
    "a = np.arange(20)\n",
    "print(a)\n",
    "print(type(a))"
   ]
  },
  {
   "cell_type": "code",
   "execution_count": 130,
   "id": "6158bc49",
   "metadata": {},
   "outputs": [
    {
     "data": {
      "text/plain": [
       "array([[ 0,  1,  2,  3,  4],\n",
       "       [ 5,  6,  7,  8,  9],\n",
       "       [10, 11, 12, 13, 14],\n",
       "       [15, 16, 17, 18, 19],\n",
       "       [20, 21, 22, 23, 24],\n",
       "       [25, 26, 27, 28, 29],\n",
       "       [30, 31, 32, 33, 34],\n",
       "       [35, 36, 37, 38, 39]])"
      ]
     },
     "execution_count": 130,
     "metadata": {},
     "output_type": "execute_result"
    }
   ],
   "source": [
    "a = np.arange(40)\n",
    "b = a.reshape(8,5)\n",
    "b"
   ]
  },
  {
   "cell_type": "code",
   "execution_count": 131,
   "id": "ef1c03ab",
   "metadata": {},
   "outputs": [
    {
     "data": {
      "text/plain": [
       "array([ 0,  1,  2,  3,  4,  5,  6,  7,  8,  9, 10, 11, 12, 13, 14, 15, 16,\n",
       "       17, 18, 19, 20, 21, 22, 23, 24, 25, 26, 27, 28, 29])"
      ]
     },
     "execution_count": 131,
     "metadata": {},
     "output_type": "execute_result"
    }
   ],
   "source": [
    "a = np.arange(30)\n",
    "a"
   ]
  },
  {
   "cell_type": "code",
   "execution_count": 141,
   "id": "0b7bcf98",
   "metadata": {},
   "outputs": [
    {
     "name": "stdout",
     "output_type": "stream",
     "text": [
      "0\n",
      "29\n",
      "0\n",
      "29\n",
      "435\n",
      "14.5\n",
      "[[ 0  1  2  3  4]\n",
      " [ 5  6  7  8  9]\n",
      " [10 11 12 13 14]\n",
      " [15 16 17 18 19]\n",
      " [20 21 22 23 24]\n",
      " [25 26 27 28 29]]\n",
      "[ 0  6 12 18 24]\n",
      "[ 0  1  2  3  4  5  6  7  8  9 10 11 12 13 14 15 16 17 18 19 20 21 22 23\n",
      " 24 25 26 27 28 29]\n"
     ]
    }
   ],
   "source": [
    "print(a.min())\n",
    "print(a.max())\n",
    "print(a.argmin())\n",
    "print(a.argmax())\n",
    "print(a.sum())\n",
    "print(a.mean())\n",
    "b = a.reshape(6,5)\n",
    "print(b)\n",
    "print(b.diagonal())\n",
    "print(b.ravel())"
   ]
  },
  {
   "cell_type": "code",
   "execution_count": 142,
   "id": "19deb729",
   "metadata": {},
   "outputs": [
    {
     "data": {
      "text/plain": [
       "array([[ 0.04186017,  1.03737106,  1.27811504,  1.94800831,  1.20808901],\n",
       "       [-2.00897668, -0.57131697,  0.26479254,  2.04012685,  1.24184141],\n",
       "       [-1.35724218, -0.25493393, -0.29101606, -1.2703914 ,  0.23595431],\n",
       "       [ 1.38417706,  0.73923342,  0.70872766,  0.7809341 ,  0.01994063],\n",
       "       [-0.58777525,  0.94903584,  0.2876058 , -0.97625449,  0.38459088],\n",
       "       [ 1.5169285 , -0.41328182, -0.16201897,  1.51066112, -2.54857442]])"
      ]
     },
     "execution_count": 142,
     "metadata": {},
     "output_type": "execute_result"
    }
   ],
   "source": [
    "a = np.random.randn(6,5)\n",
    "a"
   ]
  },
  {
   "cell_type": "code",
   "execution_count": 144,
   "id": "2d79adaf",
   "metadata": {},
   "outputs": [
    {
     "name": "stdout",
     "output_type": "stream",
     "text": [
      "[[0 1 4 2 3]\n",
      " [0 1 2 4 3]\n",
      " [0 3 2 1 4]\n",
      " [4 2 1 3 0]\n",
      " [3 0 2 4 1]\n",
      " [4 1 2 3 0]]\n"
     ]
    }
   ],
   "source": [
    "print(a.argsort())"
   ]
  },
  {
   "cell_type": "code",
   "execution_count": 145,
   "id": "5bbfd4d1",
   "metadata": {},
   "outputs": [
    {
     "name": "stdout",
     "output_type": "stream",
     "text": [
      "(array([0, 0, 0, 0, 0, 1, 1, 1, 1, 1, 2, 2, 2, 2, 2, 3, 3, 3, 3, 3, 4, 4,\n",
      "       4, 4, 4, 5, 5, 5, 5, 5], dtype=int64), array([0, 1, 2, 3, 4, 0, 1, 2, 3, 4, 0, 1, 2, 3, 4, 0, 1, 2, 3, 4, 0, 1,\n",
      "       2, 3, 4, 0, 1, 2, 3, 4], dtype=int64))\n"
     ]
    }
   ],
   "source": [
    "print(a.nonzero())"
   ]
  },
  {
   "cell_type": "code",
   "execution_count": 146,
   "id": "fce5f63e",
   "metadata": {},
   "outputs": [
    {
     "name": "stdout",
     "output_type": "stream",
     "text": [
      "[6.         5.97959184 5.95918367 5.93877551 5.91836735 5.89795918\n",
      " 5.87755102 5.85714286 5.83673469 5.81632653 5.79591837 5.7755102\n",
      " 5.75510204 5.73469388 5.71428571 5.69387755 5.67346939 5.65306122\n",
      " 5.63265306 5.6122449  5.59183673 5.57142857 5.55102041 5.53061224\n",
      " 5.51020408 5.48979592 5.46938776 5.44897959 5.42857143 5.40816327\n",
      " 5.3877551  5.36734694 5.34693878 5.32653061 5.30612245 5.28571429\n",
      " 5.26530612 5.24489796 5.2244898  5.20408163 5.18367347 5.16326531\n",
      " 5.14285714 5.12244898 5.10204082 5.08163265 5.06122449 5.04081633\n",
      " 5.02040816 5.        ]\n"
     ]
    }
   ],
   "source": [
    "a = np.linspace(6,5)\n",
    "print(a)"
   ]
  },
  {
   "cell_type": "code",
   "execution_count": 148,
   "id": "e2658291",
   "metadata": {},
   "outputs": [
    {
     "data": {
      "text/plain": [
       "array([[1., 0., 0., 0., 0.],\n",
       "       [0., 1., 0., 0., 0.],\n",
       "       [0., 0., 1., 0., 0.],\n",
       "       [0., 0., 0., 1., 0.],\n",
       "       [0., 0., 0., 0., 1.],\n",
       "       [0., 0., 0., 0., 0.]])"
      ]
     },
     "execution_count": 148,
     "metadata": {},
     "output_type": "execute_result"
    }
   ],
   "source": [
    "a = np.eye(6,5)\n",
    "a"
   ]
  },
  {
   "cell_type": "code",
   "execution_count": 150,
   "id": "3b2810df",
   "metadata": {},
   "outputs": [
    {
     "data": {
      "text/plain": [
       "array([[1., 1., 1., 1., 1.],\n",
       "       [1., 1., 1., 1., 1.],\n",
       "       [1., 1., 1., 1., 1.],\n",
       "       [1., 1., 1., 1., 1.],\n",
       "       [1., 1., 1., 1., 1.],\n",
       "       [1., 1., 1., 1., 1.]])"
      ]
     },
     "execution_count": 150,
     "metadata": {},
     "output_type": "execute_result"
    }
   ],
   "source": [
    "a=np.ones((6,5))\n",
    "a"
   ]
  },
  {
   "cell_type": "code",
   "execution_count": 152,
   "id": "1c429d00",
   "metadata": {},
   "outputs": [
    {
     "data": {
      "text/plain": [
       "array([[6, 0],\n",
       "       [0, 5]])"
      ]
     },
     "execution_count": 152,
     "metadata": {},
     "output_type": "execute_result"
    }
   ],
   "source": [
    "a = np.diag([6,5])\n",
    "a"
   ]
  },
  {
   "cell_type": "code",
   "execution_count": null,
   "id": "ec559263",
   "metadata": {},
   "outputs": [],
   "source": []
  }
 ],
 "metadata": {
  "kernelspec": {
   "display_name": "Python 3 (ipykernel)",
   "language": "python",
   "name": "python3"
  },
  "language_info": {
   "codemirror_mode": {
    "name": "ipython",
    "version": 3
   },
   "file_extension": ".py",
   "mimetype": "text/x-python",
   "name": "python",
   "nbconvert_exporter": "python",
   "pygments_lexer": "ipython3",
   "version": "3.10.3"
  }
 },
 "nbformat": 4,
 "nbformat_minor": 5
}
